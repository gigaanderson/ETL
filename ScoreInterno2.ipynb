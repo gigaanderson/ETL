{
  "cells": [
    {
      "cell_type": "markdown",
      "metadata": {
        "id": "view-in-github",
        "colab_type": "text"
      },
      "source": [
        "<a href=\"https://colab.research.google.com/github/gigaanderson/ETL/blob/main/ScoreInterno2.ipynb\" target=\"_parent\"><img src=\"https://colab.research.google.com/assets/colab-badge.svg\" alt=\"Open In Colab\"/></a>"
      ]
    },
    {
      "cell_type": "code",
      "execution_count": 1,
      "metadata": {
        "id": "nRFPlechUB62"
      },
      "outputs": [],
      "source": [
        "import requests\n",
        "import pandas as pd\n",
        "from datetime import datetime"
      ]
    },
    {
      "cell_type": "code",
      "execution_count": 2,
      "metadata": {
        "id": "QW1HSG7uUB68"
      },
      "outputs": [],
      "source": [
        "# Função para obter a lista de IPs do CINSCORE\n",
        "def get_cinscore_ips():\n",
        "\n",
        "    # URL do CINSCORE para obter a lista de IPs\n",
        "    url = \"http://cinsscore.com/list/ci-badguys.txt\"\n",
        "\n",
        "    response = requests.get(url)\n",
        "    if response.status_code == 200:\n",
        "        # A lista de IPs está em formato de texto, cada linha contém um IP\n",
        "        ips = [line.strip() for line in response.text.splitlines() if line and not line.startswith('#')]\n",
        "        return ips[:10]  # Retorna apenas os 10 primeiros IPs\n",
        "    else:\n",
        "        print(f\"Erro ao buscar IPs do CINSCORE: {response.status_code}\")\n",
        "        return []"
      ]
    },
    {
      "cell_type": "code",
      "execution_count": 3,
      "metadata": {
        "id": "A-oFfmD8UB69"
      },
      "outputs": [],
      "source": [
        "# Função para enriquecer um IP usando a API do IPinfo.io\n",
        "def enrich_ip(ip):\n",
        "    url = 'https://api.abuseipdb.com/api/v2/check'\n",
        "    API_KEY = 'ccfa49ac0340b951d1bec224ddb04d20a02e88212a2afa749294658a95f825a38802e3247b599dc9'\n",
        "\n",
        "    querystring = {\n",
        "        'ipAddress': ip,\n",
        "        'maxAgeInDays': '90'  # Período de tempo para considerar relatórios (em dias)\n",
        "    }\n",
        "    headers = {\n",
        "        'Accept': 'application/json',\n",
        "        'Key': API_KEY\n",
        "    }\n",
        "\n",
        "    response = requests.get(url, headers=headers, params=querystring)\n",
        "    if response.status_code == 200:\n",
        "        return response.json()\n",
        "    else:\n",
        "        return {}"
      ]
    },
    {
      "cell_type": "code",
      "execution_count": 4,
      "metadata": {
        "id": "vqJYRFhTUB6-"
      },
      "outputs": [],
      "source": [
        "# Função para calcular um score ponderado baseado na resposta da API\n",
        "def calcular_score_proprio(resposta_abuseipdb):\n",
        "    if resposta_abuseipdb is None:\n",
        "        return 0\n",
        "\n",
        "    data = resposta_abuseipdb.get('data', {})\n",
        "\n",
        "    # Valores a serem utilizados no cálculo\n",
        "    abuse_score = data.get('abuseConfidenceScore', 0)   # Normalizando para 0 a 1\n",
        "    total_reports = min(data.get('totalReports', 0), 100)  # Normalizando e limitando\n",
        "    distinct_users = min(data.get('numDistinctUsers', 0), 100) # Normalizando e limitando\n",
        "    last_report = data.get('lastReportedAt', \"\")\n",
        "    ip = data.get('ipAddress', 'N/A')  # IP address\n",
        "\n",
        "    # Pesos para os fatores\n",
        "    peso_abuse_score = 0.4     # Peso para o abuso\n",
        "    peso_total_reports = 0.2    # Peso para o número de reports\n",
        "    peso_distinct_users = 0.2   # Peso para a quantidade distinta de usuários\n",
        "    peso_last_report = 0.2      # Peso para a data do último report\n",
        "\n",
        "    # Cálculo do score da data do último report\n",
        "    if last_report:\n",
        "        last_report_date = datetime.strptime(last_report, \"%Y-%m-%dT%H:%M:%S%z\")\n",
        "        days_since_last_report = (datetime.now(last_report_date.tzinfo) - last_report_date).days\n",
        "\n",
        "        # Score baseado em quão recente é o último report\n",
        "        score_last_report = max(0, (90 - days_since_last_report) / 90)\n",
        "    else:\n",
        "        score_last_report = 0\n",
        "\n",
        "    # Normalizando o score do último report\n",
        "    #score_last_report /= 100  # Para que fique entre 0 e 1\n",
        "\n",
        "    # Média ponderada\n",
        "    score_final = (\n",
        "        (abuse_score * peso_abuse_score) +\n",
        "        (total_reports * peso_total_reports) +\n",
        "        (distinct_users * peso_distinct_users) +\n",
        "        (score_last_report * peso_last_report)\n",
        "    )\n",
        "\n",
        "    # Arredondar o resultado final para 2 casas decimais\n",
        "    score_final = round(score_final, 2)\n",
        "\n",
        "    return ip, score_final, round(abuse_score, 2), round(distinct_users, 2), round(total_reports, 2), round(score_last_report, 2)\n"
      ]
    },
    {
      "cell_type": "code",
      "execution_count": 5,
      "metadata": {
        "colab": {
          "base_uri": "https://localhost:8080/"
        },
        "id": "zj89hSeeUB6-",
        "outputId": "4d519d13-de4a-4501-9280-86fe8e2c8c38"
      },
      "outputs": [
        {
          "output_type": "stream",
          "name": "stdout",
          "text": [
            "              IP  Score Interno  Abuse Score  Distinct Users  Total Reports  Score Last Report\n",
            "0    1.15.118.23           66.6          100              32            100               1.00\n",
            "1   1.158.95.124           13.0           27               4              6               0.98\n",
            "2    1.20.102.56           72.4          100              61            100               1.00\n",
            "3    1.209.45.24           72.8          100              63            100               1.00\n",
            "4    1.212.6.106           70.2          100              50            100               1.00\n",
            "5  1.220.149.234           69.4          100              46            100               1.00\n",
            "6    1.221.74.88           12.6           26               5              5               1.00\n",
            "7    1.226.61.41           80.0          100              99            100               1.00\n",
            "8    1.226.83.54           67.0          100              34            100               1.00\n",
            "9   1.227.83.100           75.4          100              76            100               1.00\n"
          ]
        }
      ],
      "source": [
        "# Lista para armazenar os resultados\n",
        "resultados = []\n",
        "\n",
        "# Obter os 10 primeiros IPs do CINSCORE\n",
        "ips = get_cinscore_ips()\n",
        "\n",
        "# Para cada IP, buscar dados da API e calcular o score\n",
        "for ip in ips:\n",
        "    resposta_api = enrich_ip(ip)  # Chama a API para o IP\n",
        "    if resposta_api:  # Certifica-se de que houve uma resposta\n",
        "        resultados.append(calcular_score_proprio(resposta_api))\n",
        "\n",
        "# Criar um DataFrame com os resultados\n",
        "df = pd.DataFrame(resultados, columns=['IP', 'Score Interno', 'Abuse Score', 'Distinct Users', 'Total Reports', 'Score Last Report'])\n",
        "\n",
        "\n",
        "# Configurar o Pandas para mostrar todas as colunas, sem truncamento\n",
        "pd.set_option('display.max_columns', None)  # Mostrar todas as colunas\n",
        "pd.set_option('display.width', 1000)        # Definir a largura máxima da tabela (ajuste conforme necessário)\n",
        "pd.set_option('display.max_colwidth', 100)  # Definir a largura máxima das colunas (ajuste conforme necessário)\n",
        "pd.set_option('display.expand_frame_repr', False)  # Evitar que o DataFrame quebre em várias linhas\n",
        "\n",
        "# Imprimir o DataFrame como tabela\n",
        "print(df)"
      ]
    },
    {
      "cell_type": "code",
      "execution_count": 6,
      "metadata": {
        "colab": {
          "base_uri": "https://localhost:8080/"
        },
        "id": "ZmapMxlnUB7A",
        "outputId": "1067ab79-5202-4521-a368-58084ceaf2c1"
      },
      "outputs": [
        {
          "output_type": "stream",
          "name": "stdout",
          "text": [
            "                                                                                                  data\n",
            "0  {'ipAddress': '1.15.118.23', 'isPublic': True, 'ipVersion': 4, 'isWhitelisted': False, 'abuseCon...\n",
            "1  {'ipAddress': '1.158.95.124', 'isPublic': True, 'ipVersion': 4, 'isWhitelisted': False, 'abuseCo...\n",
            "2  {'ipAddress': '1.20.102.56', 'isPublic': True, 'ipVersion': 4, 'isWhitelisted': False, 'abuseCon...\n",
            "3  {'ipAddress': '1.209.45.24', 'isPublic': True, 'ipVersion': 4, 'isWhitelisted': False, 'abuseCon...\n",
            "4  {'ipAddress': '1.212.6.106', 'isPublic': True, 'ipVersion': 4, 'isWhitelisted': False, 'abuseCon...\n",
            "5  {'ipAddress': '1.220.149.234', 'isPublic': True, 'ipVersion': 4, 'isWhitelisted': False, 'abuseC...\n",
            "6  {'ipAddress': '1.221.74.88', 'isPublic': True, 'ipVersion': 4, 'isWhitelisted': False, 'abuseCon...\n",
            "7  {'ipAddress': '1.226.61.41', 'isPublic': True, 'ipVersion': 4, 'isWhitelisted': False, 'abuseCon...\n",
            "8  {'ipAddress': '1.226.83.54', 'isPublic': True, 'ipVersion': 4, 'isWhitelisted': False, 'abuseCon...\n",
            "9  {'ipAddress': '1.227.83.100', 'isPublic': True, 'ipVersion': 4, 'isWhitelisted': False, 'abuseCo...\n"
          ]
        }
      ],
      "source": [
        "ips = get_cinscore_ips()\n",
        "\n",
        "# Lista para armazenar os dados enriquecidos\n",
        "enriched_ips = []\n",
        "\n",
        "# Enriquecer cada IP usando a API do IPinfo.io\n",
        "for ip in ips:\n",
        "    enriched_data = enrich_ip(ip)\n",
        "    if enriched_data:\n",
        "        enriched_ips.append(enriched_data)\n",
        "\n",
        "# Criar uma tabela (DataFrame) com os dados enriquecidos\n",
        "df = pd.DataFrame(enriched_ips)\n",
        "\n",
        "# Configurar o Pandas para mostrar todas as colunas, sem truncamento\n",
        "pd.set_option('display.max_columns', None)  # Mostrar todas as colunas\n",
        "pd.set_option('display.width', 1000)        # Definir a largura máxima da tabela (ajuste conforme necessário)\n",
        "pd.set_option('display.max_colwidth', 100)  # Definir a largura máxima das colunas (ajuste conforme necessário)\n",
        "pd.set_option('display.expand_frame_repr', False)  # Evitar que o DataFrame quebre em várias linhas\n",
        "\n",
        "# Mostrar a tabela com os dados\n",
        "print(df)"
      ]
    }
  ],
  "metadata": {
    "kernelspec": {
      "display_name": "score",
      "language": "python",
      "name": "python3"
    },
    "language_info": {
      "codemirror_mode": {
        "name": "ipython",
        "version": 3
      },
      "file_extension": ".py",
      "mimetype": "text/x-python",
      "name": "python",
      "nbconvert_exporter": "python",
      "pygments_lexer": "ipython3",
      "version": "3.11.9"
    },
    "colab": {
      "provenance": [],
      "include_colab_link": true
    }
  },
  "nbformat": 4,
  "nbformat_minor": 0
}