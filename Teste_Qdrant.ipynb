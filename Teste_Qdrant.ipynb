{
  "cells": [
    {
      "cell_type": "markdown",
      "metadata": {
        "id": "view-in-github",
        "colab_type": "text"
      },
      "source": [
        "<a href=\"https://colab.research.google.com/github/gigaanderson/ETL/blob/main/Teste_Qdrant.ipynb\" target=\"_parent\"><img src=\"https://colab.research.google.com/assets/colab-badge.svg\" alt=\"Open In Colab\"/></a>"
      ]
    },
    {
      "cell_type": "markdown",
      "source": [
        "Código Python para testar  a busaca por similaridade no Banco de Dados Vetorial QDRANT, usando como base um vetor de dimensão 128 a distância de Cosine."
      ],
      "metadata": {
        "id": "yqGGI6YEWi69"
      }
    },
    {
      "cell_type": "code",
      "execution_count": null,
      "metadata": {
        "id": "nwjGIarzR2Xa"
      },
      "outputs": [],
      "source": [
        "from qdrant_client import QdrantClient\n",
        "from qdrant_client.models import VectorParams\n",
        "import numpy as np"
      ]
    },
    {
      "cell_type": "code",
      "execution_count": null,
      "metadata": {
        "id": "8go8ghy-R2Xi"
      },
      "outputs": [],
      "source": [
        "#Serviço free online\n",
        "qdrant_client = QdrantClient(\n",
        "    url=\"https://e434e6fc-4123-4de5-88a5-aaf83bb0e12c.europe-west3-0.gcp.cloud.qdrant.io:6333\",\n",
        "    api_key=\"KCGlUpoAescNNPpVrVG_fgaIalmYDiDhWk71Z7aVzUSmGqTuGIK44\",\n",
        "    check_compatibility=False,\n",
        ")"
      ]
    },
    {
      "cell_type": "code",
      "execution_count": null,
      "metadata": {
        "id": "WqYLoFX7R2Xk"
      },
      "outputs": [],
      "source": [
        "# Definir o nome da coleção\n",
        "collection_name = \"teste\"\n",
        "\n",
        "# Criar uma coleção com vetores de dimensão 128\n",
        "qdrant_client.recreate_collection(\n",
        "    collection_name=collection_name,\n",
        "    vectors_config=VectorParams(size=128, distance=\"Cosine\")\n",
        ")\n",
        "\n",
        "# Gerar alguns vetores aleatórios\n",
        "vectors = np.random.rand(10, 128)  # 10 vetores de dimensão 128\n",
        "ids = list(range(1, 11))  # IDs para os vetores\n",
        "\n",
        "# Inserir os vetores na coleção\n",
        "qdrant_client.upsert(\n",
        "    collection_name=collection_name,\n",
        "    points=[\n",
        "        {\"id\": id_, \"vector\": vector.tolist()}\n",
        "        for id_, vector in zip(ids, vectors)\n",
        "    ]\n",
        ")\n",
        "\n",
        "# Vetor de consulta (um vetor qualquer de dimensão 128)\n",
        "query_vector = np.random.rand(128)\n",
        "\n",
        "# Buscar os 5 vetores mais similares ao vetor de consulta\n",
        "search_result = qdrant_client.search(\n",
        "    collection_name=collection_name,\n",
        "    query_vector=query_vector.tolist(),\n",
        "    limit=5\n",
        ")\n",
        "\n",
        "# Exibir resultados da busca\n",
        "for result in search_result:\n",
        "    print(f\"ID: {result.id}, Distância: {result.score}\")\n",
        "\n",
        "\n",
        "print(qdrant_client.get_collections())"
      ]
    },
    {
      "cell_type": "code",
      "execution_count": null,
      "metadata": {
        "id": "YXkD5rJfR2Xl"
      },
      "outputs": [],
      "source": [
        "# Nome da coleção\n",
        "collection_name = \"senhas_colecao\"\n",
        "\n",
        "# Criar coleção no Qdrant (com vetores de dimensão 16 para armazenar os tamanhos das senhas)\n",
        "qdrant_client.recreate_collection(\n",
        "    collection_name=collection_name,\n",
        "    vectors_config=VectorParams(size=16, distance=\"Cosine\")\n",
        ")\n",
        "\n",
        "# Função para ler o arquivo senhas.txt\n",
        "def ler_senhas(arquivo):\n",
        "    senhas = []\n",
        "    with open(arquivo, \"r\") as f:\n",
        "        for linha in f:\n",
        "            partes = linha.strip().split()\n",
        "            if len(partes) >= 3:\n",
        "                tamanho = int(partes[0])\n",
        "                ocorrencias = int(partes[1])\n",
        "                senha = ' '.join(partes[2:])  # Caso a senha contenha espaços\n",
        "                senhas.append({\"tamanho\": tamanho, \"ocorrencias\": ocorrencias, \"senha\": senha})\n",
        "    return senhas\n",
        "\n",
        "# Lendo o arquivo 'senhas.txt'\n",
        "arquivo = \"senhas.txt\"  # Coloque o caminho correto do arquivo aqui\n",
        "senhas = ler_senhas(arquivo)\n",
        "\n",
        "# Convertendo as senhas para vetores e inserindo no Qdrant\n",
        "for idx, senha in enumerate(senhas):\n",
        "    # Criação de um vetor aleatório para cada senha (neste exemplo)\n",
        "    vetor = np.random.rand(16)  # Substitua pelo vetor desejado, se aplicável\n",
        "    qdrant_client.upsert(\n",
        "        collection_name=collection_name,\n",
        "        points=[\n",
        "            {\n",
        "                \"id\": idx + 1,\n",
        "                \"vector\": vetor.tolist(),\n",
        "                \"payload\": {\n",
        "                    \"tamanho\": senha[\"tamanho\"],\n",
        "                    \"ocorrencias\": senha[\"ocorrencias\"],\n",
        "                    \"senha\": senha[\"senha\"]\n",
        "                }\n",
        "            }\n",
        "        ]\n",
        "    )\n",
        "\n",
        "print(\"Impressão completa.\")\n",
        "\n",
        "\n",
        "print(qdrant_client.get_collections())"
      ]
    }
  ],
  "metadata": {
    "kernelspec": {
      "display_name": "Python 3",
      "language": "python",
      "name": "python3"
    },
    "language_info": {
      "codemirror_mode": {
        "name": "ipython",
        "version": 3
      },
      "file_extension": ".py",
      "mimetype": "text/x-python",
      "name": "python",
      "nbconvert_exporter": "python",
      "pygments_lexer": "ipython3",
      "version": "3.10.12"
    },
    "colab": {
      "provenance": [],
      "include_colab_link": true
    }
  },
  "nbformat": 4,
  "nbformat_minor": 0
}