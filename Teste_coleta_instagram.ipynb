{
  "nbformat": 4,
  "nbformat_minor": 0,
  "metadata": {
    "colab": {
      "provenance": [],
      "authorship_tag": "ABX9TyM3knzmXtKeJTtxWyxpfL0c",
      "include_colab_link": true
    },
    "kernelspec": {
      "name": "python3",
      "display_name": "Python 3"
    },
    "language_info": {
      "name": "python"
    }
  },
  "cells": [
    {
      "cell_type": "markdown",
      "metadata": {
        "id": "view-in-github",
        "colab_type": "text"
      },
      "source": [
        "<a href=\"https://colab.research.google.com/github/gigaanderson/ETL/blob/main/Teste_coleta_instagram.ipynb\" target=\"_parent\"><img src=\"https://colab.research.google.com/assets/colab-badge.svg\" alt=\"Open In Colab\"/></a>"
      ]
    },
    {
      "cell_type": "markdown",
      "source": [
        "Código Python para acessar o instagram, por meio de uma person válida, e fazer mineração de posts usando scraping via Selenium"
      ],
      "metadata": {
        "id": "o4xZbDkmYr1B"
      }
    },
    {
      "cell_type": "code",
      "execution_count": 3,
      "metadata": {
        "id": "HQNM0UuHX6Sz"
      },
      "outputs": [],
      "source": [
        "import time\n",
        "import json\n",
        "import random\n",
        "from selenium import webdriver\n",
        "from selenium.webdriver.common.by import By\n",
        "from selenium.webdriver.common.keys import Keys\n",
        "from selenium_stealth import stealth\n",
        "from fake_useragent import UserAgent"
      ]
    },
    {
      "cell_type": "code",
      "source": [
        "# Configuração do User-Agent aleatório\n",
        "ua = UserAgent()\n",
        "user_agent = ua.random"
      ],
      "metadata": {
        "id": "xevHXt3-YCf8"
      },
      "execution_count": 4,
      "outputs": []
    },
    {
      "cell_type": "code",
      "source": [
        "# Configuração do WebDriver com Stealth\n",
        "options = webdriver.ChromeOptions()\n",
        "options.add_argument(\"--disable-blink-features=AutomationControlled\")\n",
        "options.add_argument(\"--start-maximized\")\n",
        "options.add_argument(f\"user-agent={user_agent}\")\n",
        "\n",
        "driver = webdriver.Chrome(options=options)"
      ],
      "metadata": {
        "id": "4pqaJx1WYFJK"
      },
      "execution_count": null,
      "outputs": []
    },
    {
      "cell_type": "code",
      "source": [
        "# Aplicar Stealth para camuflar automação\n",
        "stealth(driver,\n",
        "        languages=[\"en-US\", \"en\"],\n",
        "        vendor=\"Google Inc.\",\n",
        "        platform=\"Win32\",\n",
        "        webgl_vendor=\"Intel Inc.\",\n",
        "        renderer=\"Intel Iris OpenGL Engine\",\n",
        "        fix_hairline=True)"
      ],
      "metadata": {
        "id": "O3HD5BDOYG2c"
      },
      "execution_count": null,
      "outputs": []
    },
    {
      "cell_type": "code",
      "source": [
        "# Credenciais do Instagram\n",
        "USERNAME = \"giga.anderson@gmail.com\"\n",
        "PASSWORD = \"giga@i2024\""
      ],
      "metadata": {
        "id": "1AjEAZSaYIl6"
      },
      "execution_count": null,
      "outputs": []
    },
    {
      "cell_type": "code",
      "source": [
        "#Funções\n",
        "\n",
        "def random_delay(min_sec=2, max_sec=5):\n",
        "    \"\"\"Função para adicionar delays aleatórios\"\"\"\n",
        "    time.sleep(random.uniform(min_sec, max_sec))\n",
        "\n",
        "def login_instagram():\n",
        "    \"\"\"Faz login no Instagram\"\"\"\n",
        "    driver.get(\"https://www.instagram.com/accounts/login/\")\n",
        "    random_delay(5, 8)\n",
        "\n",
        "    username_input = driver.find_element(By.NAME, \"username\")\n",
        "    password_input = driver.find_element(By.NAME, \"password\")\n",
        "\n",
        "    username_input.send_keys(USERNAME)\n",
        "    random_delay(2, 4)\n",
        "    password_input.send_keys(PASSWORD)\n",
        "    random_delay(2, 4)\n",
        "    password_input.send_keys(Keys.RETURN)\n",
        "\n",
        "    random_delay(8, 12)  # Tempo extra para evitar bloqueios\n",
        "\n",
        "def buscar_postagens(palavra_chave):\n",
        "    \"\"\"Busca postagens que contêm a palavra-chave\"\"\"\n",
        "    search_url = f\"https://www.instagram.com/explore/tags/{palavra_chave}/\"\n",
        "    driver.get(search_url)\n",
        "    random_delay(5, 8)\n",
        "\n",
        "    # Scroll para carregar mais postagens\n",
        "    for _ in range(3):\n",
        "        driver.execute_script(\"window.scrollBy(0, 1000);\")\n",
        "        random_delay(4, 7)\n",
        "\n",
        "    # Coletar links das postagens\n",
        "    post_links = driver.find_elements(By.XPATH, \"//a[contains(@href, '/p/')]\")\n",
        "    links = [post.get_attribute(\"href\") for post in post_links]\n",
        "\n",
        "    print(f\"\\n🔍 {len(links)} postagens encontradas com #{palavra_chave}\")\n",
        "\n",
        "    return links\n",
        "\n",
        "def coletar_detalhes(links):\n",
        "    \"\"\"Coleta e exibe detalhes das postagens\"\"\"\n",
        "    resultados = []\n",
        "\n",
        "    for link in links[:5]:  # Limita a coleta para evitar bloqueios\n",
        "        driver.get(link)\n",
        "        random_delay(4, 8)\n",
        "\n",
        "        try:\n",
        "            caption = driver.find_element(By.XPATH, \"//span\").text\n",
        "        except:\n",
        "            caption = \"Sem legenda\"\n",
        "\n",
        "        try:\n",
        "            author = driver.find_element(By.XPATH, \"//a[contains(@href, '/')]\").text\n",
        "        except:\n",
        "            author = \"Desconhecido\"\n",
        "\n",
        "        post_info = {\n",
        "            \"Autor\": author,\n",
        "            \"Legenda\": caption[:200] + \"...\" if len(caption) > 200 else caption,\n",
        "            \"Link\": link\n",
        "        }\n",
        "        resultados.append(post_info)\n",
        "\n",
        "        print(\"\\n📌 Postagem encontrada:\")\n",
        "        print(f\"🔗 Link: {post_info['Link']}\")\n",
        "        print(f\"👤 Autor: {post_info['Autor']}\")\n",
        "        print(f\"📝 Legenda: {post_info['Legenda']}\")\n",
        "\n",
        "    return resultados\n",
        "\n",
        "def salvar_json(dados, nome_arquivo=\"resultados.json\"):\n",
        "    \"\"\"Salva os dados coletados em um arquivo JSON\"\"\"\n",
        "    with open(nome_arquivo, \"w\", encoding=\"utf-8\") as file:\n",
        "        json.dump(dados, file, ensure_ascii=False, indent=4)\n",
        "    print(f\"\\n✅ Dados salvos em {nome_arquivo}\")"
      ],
      "metadata": {
        "id": "Ps6VGNKXYNga"
      },
      "execution_count": null,
      "outputs": []
    },
    {
      "cell_type": "code",
      "source": [
        "    #Executando o Processo e Salvando no JSON final.\n",
        "    login_instagram()\n",
        "    links = buscar_postagens(\"Safelabs\")\n",
        "    resultados = coletar_detalhes(links)\n",
        "    salvar_json(resultados)\n",
        "    driver.quit()"
      ],
      "metadata": {
        "id": "k5eeBUB6YkcC"
      },
      "execution_count": null,
      "outputs": []
    }
  ]
}